{
  "nbformat": 4,
  "nbformat_minor": 0,
  "metadata": {
    "colab": {
      "provenance": [],
      "authorship_tag": "ABX9TyOV6aaI3dwsvVM3yi92c1qQ",
      "include_colab_link": true
    },
    "kernelspec": {
      "name": "python3",
      "display_name": "Python 3"
    },
    "language_info": {
      "name": "python"
    }
  },
  "cells": [
    {
      "cell_type": "markdown",
      "metadata": {
        "id": "view-in-github",
        "colab_type": "text"
      },
      "source": [
        "<a href=\"https://colab.research.google.com/github/SelvaKorkmaz/Python/blob/main/Part_3_1.ipynb\" target=\"_parent\"><img src=\"https://colab.research.google.com/assets/colab-badge.svg\" alt=\"Open In Colab\"/></a>"
      ]
    },
    {
      "cell_type": "code",
      "execution_count": null,
      "metadata": {
        "colab": {
          "base_uri": "https://localhost:8080/"
        },
        "id": "TvvcBfO4t05D",
        "outputId": "781b0c12-a459-4029-f388-dff1efe9613c"
      },
      "outputs": [
        {
          "output_type": "stream",
          "name": "stdout",
          "text": [
            "Please type in a number: 4\n",
            "4\n",
            "5\n",
            "6\n",
            "7\n",
            "8\n",
            "9\n",
            "Execution finished.\n"
          ]
        }
      ],
      "source": [
        "number = int(input(\"Please type in a number: \"))\n",
        "\n",
        "while number < 10:\n",
        "    print(number)\n",
        "    number += 1\n",
        "\n",
        "print(\"Execution finished.\")"
      ]
    },
    {
      "cell_type": "code",
      "source": [
        "number = 2\n",
        "while number <= 30 :\n",
        "  if number % 2 :\n",
        "    print(number)\n",
        "    number += 1\n"
      ],
      "metadata": {
        "id": "NU9IjDLNuk3p"
      },
      "execution_count": null,
      "outputs": []
    },
    {
      "cell_type": "code",
      "source": [
        "print(\"Are you ready?\")\n",
        "number = int(input(\"Please type in a number: \"))\n",
        "while number > 0 :\n",
        "  print(number)\n",
        "  number -= 1\n",
        "print(\"Now!\")"
      ],
      "metadata": {
        "id": "LRBvowgTviHU"
      },
      "execution_count": null,
      "outputs": []
    },
    {
      "cell_type": "code",
      "source": [
        "number = int(input(\"Please type in a number: \"))\n",
        "while number < 100 and number % 5 != 0 :\n",
        "  print(number)\n",
        "  number += 3\n"
      ],
      "metadata": {
        "id": "NOOLX10Uwr6U"
      },
      "execution_count": null,
      "outputs": []
    },
    {
      "cell_type": "code",
      "source": [
        "limit = int(input(\"Upper limit: \"))\n",
        "number = 1\n",
        "while number < limit :\n",
        "  print(number)\n",
        "  number += 1"
      ],
      "metadata": {
        "id": "OqVwWqkWxHkj",
        "colab": {
          "base_uri": "https://localhost:8080/"
        },
        "outputId": "0fb1bcbf-c7bf-42ac-ad3d-6f24ec1175f1"
      },
      "execution_count": null,
      "outputs": [
        {
          "output_type": "stream",
          "name": "stdout",
          "text": [
            "Upper limit: 5\n",
            "1\n",
            "2\n",
            "3\n",
            "4\n"
          ]
        }
      ]
    },
    {
      "cell_type": "code",
      "source": [
        "ul = int(input(\"Upper limit: \"))\n",
        "number=1\n",
        "while number <= ul :\n",
        "  print(number)\n",
        "  number = number * 2\n"
      ],
      "metadata": {
        "id": "ZAeE4vf7yF66",
        "colab": {
          "base_uri": "https://localhost:8080/"
        },
        "outputId": "c0682ad0-f626-46c7-b853-87c43b22486f"
      },
      "execution_count": null,
      "outputs": [
        {
          "output_type": "stream",
          "name": "stdout",
          "text": [
            "Upper limit: 100\n",
            "1\n",
            "2\n",
            "4\n",
            "8\n",
            "16\n",
            "32\n",
            "64\n"
          ]
        }
      ]
    },
    {
      "cell_type": "code",
      "source": [
        "ul = int(input(\"Upper limit: \"))\n",
        "base = int(input(\"Base: \"))\n",
        "result = 1\n",
        "while result <= ul :\n",
        "  print(result)\n",
        "  result = result * base"
      ],
      "metadata": {
        "colab": {
          "base_uri": "https://localhost:8080/"
        },
        "id": "0QseRcByiFeh",
        "outputId": "b04ac413-7161-4d51-b7d9-deb5d2f6352c"
      },
      "execution_count": null,
      "outputs": [
        {
          "output_type": "stream",
          "name": "stdout",
          "text": [
            "Upper limit: 27\n",
            "Base: 3\n",
            "1\n",
            "3\n",
            "9\n",
            "27\n"
          ]
        }
      ]
    },
    {
      "cell_type": "code",
      "source": [
        "limit = int(input(\"Limit: \"))\n",
        "number = 0\n",
        "n = 1\n",
        "while number < limit :\n",
        "  number += n\n",
        "  n += 1\n",
        "print(number)"
      ],
      "metadata": {
        "colab": {
          "base_uri": "https://localhost:8080/"
        },
        "id": "HmdraXHZjO2k",
        "outputId": "c736b59c-d2be-4922-d639-a9aaf806a4c6"
      },
      "execution_count": null,
      "outputs": [
        {
          "output_type": "stream",
          "name": "stdout",
          "text": [
            "Limit: 2\n",
            "3\n"
          ]
        }
      ]
    },
    {
      "cell_type": "code",
      "source": [
        "limit = int(input(\"Limit: \"))\n",
        "number = 0\n",
        "n = 1\n",
        "toplam = []\n",
        "while number < limit :\n",
        "  number += n\n",
        "  toplam.append(str(n))\n",
        "  n += 1\n",
        "print(f\"The consecutive sum: {' + '.join(toplam)} = {number}\")"
      ],
      "metadata": {
        "colab": {
          "base_uri": "https://localhost:8080/"
        },
        "id": "19SQvnBZkJGu",
        "outputId": "b1511f5f-c976-4889-c3c1-d92db073d62c"
      },
      "execution_count": null,
      "outputs": [
        {
          "output_type": "stream",
          "name": "stdout",
          "text": [
            "Limit: 10\n",
            "The consecutive sum: 1 + 2 + 3 + 4 = 10\n"
          ]
        }
      ]
    },
    {
      "cell_type": "code",
      "source": [
        "n = int(input(\"n: \"))\n",
        "row = \"*\"\n",
        "while n > 0:\n",
        "  print(\" \" * n + row)\n",
        "  row += \"**\"\n",
        "  n -= 1"
      ],
      "metadata": {
        "colab": {
          "base_uri": "https://localhost:8080/"
        },
        "id": "gWrUE_L_vNXp",
        "outputId": "2fe473f9-2be0-45eb-b842-6ff23bab2ad4"
      },
      "execution_count": null,
      "outputs": [
        {
          "output_type": "stream",
          "name": "stdout",
          "text": [
            "n: 10\n",
            "          *\n",
            "         ***\n",
            "        *****\n",
            "       *******\n",
            "      *********\n",
            "     ***********\n",
            "    *************\n",
            "   ***************\n",
            "  *****************\n",
            " *******************\n"
          ]
        }
      ]
    },
    {
      "cell_type": "code",
      "source": [
        "string = input(\"Please type in a string: \")\n",
        "amount = int(input(\"Please type in an amount: \"))\n",
        "print(string * amount)"
      ],
      "metadata": {
        "colab": {
          "base_uri": "https://localhost:8080/"
        },
        "id": "EqjpzWq4vsru",
        "outputId": "b0fbe9c9-b96f-4fe8-9c49-da3b0c28feb7"
      },
      "execution_count": null,
      "outputs": [
        {
          "output_type": "stream",
          "name": "stdout",
          "text": [
            "Please type in a string: hiya\n",
            "Please type in an amount: 4\n",
            "hiyahiyahiyahiya\n"
          ]
        }
      ]
    },
    {
      "cell_type": "code",
      "source": [
        "string = input(\"Please type in a string: \")\n",
        "print(string)\n",
        "print(len(string))\n",
        "print(\"-\" * len(string))"
      ],
      "metadata": {
        "colab": {
          "base_uri": "https://localhost:8080/"
        },
        "id": "sSwFUCB_wHKl",
        "outputId": "3848b731-996f-4760-ba86-62815de0e611"
      },
      "execution_count": null,
      "outputs": [
        {
          "output_type": "stream",
          "name": "stdout",
          "text": [
            "Please type in a string: selva\n",
            "selva\n",
            "5\n",
            "-----\n"
          ]
        }
      ]
    },
    {
      "cell_type": "code",
      "source": [
        "st1 = input(\"Please type in a string: \")\n",
        "st2 = input(\"Please type in a string: \")\n",
        "if len(st1) > len(st2) :\n",
        "  print(f\"{st1} is longer\")\n",
        "elif len(st1) < len(st2) :\n",
        "  print(f\"{st2} is longer\")\n",
        "else :\n",
        "  print(\"the strings are equally long\")"
      ],
      "metadata": {
        "colab": {
          "base_uri": "https://localhost:8080/"
        },
        "id": "nUoB-k6nwe7s",
        "outputId": "5f023d6d-7984-4d55-8108-aecffd44d7a4"
      },
      "execution_count": null,
      "outputs": [
        {
          "output_type": "stream",
          "name": "stdout",
          "text": [
            "Please type in a string: a\n",
            "Please type in a string: b\n",
            "the strings are equally long\n"
          ]
        }
      ]
    },
    {
      "cell_type": "code",
      "source": [
        "string = input(\"Please type in a string: \")\n",
        "index = 0\n",
        "while index < len(string) :\n",
        "  print(string[index])\n",
        "  index += 1"
      ],
      "metadata": {
        "colab": {
          "base_uri": "https://localhost:8080/"
        },
        "id": "famYVQ1PxjRn",
        "outputId": "320a3a33-f9b0-4a28-d057-cccd59fee924"
      },
      "execution_count": null,
      "outputs": [
        {
          "output_type": "stream",
          "name": "stdout",
          "text": [
            "Please type in a string: test\n",
            "t\n",
            "e\n",
            "s\n",
            "t\n"
          ]
        }
      ]
    },
    {
      "cell_type": "code",
      "source": [
        "string = input(\"Please type in a string: \")\n",
        "print(\"İlk karakter: \" + string[0])\n",
        "print(\"Son karakter: \" + string[-1])"
      ],
      "metadata": {
        "colab": {
          "base_uri": "https://localhost:8080/"
        },
        "id": "kVQU0Rtcx6WR",
        "outputId": "bf12bd1a-c240-4117-9b55-51f72d60353f"
      },
      "execution_count": null,
      "outputs": [
        {
          "output_type": "stream",
          "name": "stdout",
          "text": [
            "Please type in a string: selva\n",
            "İlk karakter: s\n",
            "Son karakter: a\n"
          ]
        }
      ]
    },
    {
      "cell_type": "code",
      "source": [
        "string = input(\"Please type in a string: \")\n",
        "index = len(string) - 1\n",
        "while index >= 0 :\n",
        "  print(string[index])\n",
        "  index -= 1"
      ],
      "metadata": {
        "colab": {
          "base_uri": "https://localhost:8080/"
        },
        "id": "JDYBzvRwyXRb",
        "outputId": "a3d6dc04-dc0c-4f19-9c14-e0d391a31d6c"
      },
      "execution_count": null,
      "outputs": [
        {
          "output_type": "stream",
          "name": "stdout",
          "text": [
            "Please type in a string: hiaa7\n",
            "7\n",
            "a\n",
            "a\n",
            "i\n",
            "h\n"
          ]
        }
      ]
    },
    {
      "cell_type": "code",
      "source": [
        "string = input(\"Please type in a string: \")\n",
        "if len(string) < 2 :\n",
        "    print(\"The string is too short!\")\n",
        "else:\n",
        "  if string[1] == string[-2] :\n",
        "    print(f\"The second and the second to last characters are {string[1]}\")\n",
        "  else :\n",
        "    print(\"The second and the second to last characters are different\")"
      ],
      "metadata": {
        "colab": {
          "base_uri": "https://localhost:8080/"
        },
        "id": "gT7xAfoRzVsp",
        "outputId": "28b3f7ad-4913-4297-fa0d-045ba3b065f4"
      },
      "execution_count": null,
      "outputs": [
        {
          "output_type": "stream",
          "name": "stdout",
          "text": [
            "Please type in a string: evve\n",
            "The second and the second to last characters are v\n"
          ]
        }
      ]
    },
    {
      "cell_type": "code",
      "source": [
        "width = int(input(\"Width: \"))\n",
        "print(\"#\" * width)"
      ],
      "metadata": {
        "colab": {
          "base_uri": "https://localhost:8080/"
        },
        "id": "INyGyI7I16Wl",
        "outputId": "ed6e9da8-3f77-4a46-e4a4-70c95c8bdb6d"
      },
      "execution_count": null,
      "outputs": [
        {
          "output_type": "stream",
          "name": "stdout",
          "text": [
            "Width: 3\n",
            "###\n"
          ]
        }
      ]
    },
    {
      "cell_type": "code",
      "source": [
        "width = int(input(\"Width: \"))\n",
        "height = int(input(\"Height: \"))\n",
        "h_index = 1\n",
        "while h_index <= height :\n",
        "  print(\"#\" * width)\n",
        "  h_index += 1"
      ],
      "metadata": {
        "colab": {
          "base_uri": "https://localhost:8080/"
        },
        "id": "8NQKO4pm2Xj_",
        "outputId": "4e000f90-3444-49b7-e198-8b20bbffe271"
      },
      "execution_count": null,
      "outputs": [
        {
          "output_type": "stream",
          "name": "stdout",
          "text": [
            "Width: 10\n",
            "Height: 3\n",
            "##########\n",
            "##########\n",
            "##########\n"
          ]
        }
      ]
    },
    {
      "cell_type": "code",
      "source": [
        "while True:\n",
        "    string = input(\"Please type in a string: \")  # Kullanıcıdan giriş al\n",
        "\n",
        "    if string == \"\":  # Boş giriş yapıldığında döngü sona ersin\n",
        "        break\n",
        "\n",
        "    print(\"\\n\" + string)  # Girilen metni ekrana yazdır\n",
        "    print(\"-\" * len(string))  # Metnin uzunluğu kadar alt çizgi oluştur\n"
      ],
      "metadata": {
        "colab": {
          "base_uri": "https://localhost:8080/"
        },
        "id": "T9KK_D_I2qxe",
        "outputId": "3af3cf4f-e966-4a8a-df45-eeaeaae1332f"
      },
      "execution_count": null,
      "outputs": [
        {
          "name": "stdout",
          "output_type": "stream",
          "text": [
            "Please type in a string: hjhbj\n",
            "\n",
            "hjhbj\n",
            "-----\n",
            "Please type in a string: \n"
          ]
        }
      ]
    },
    {
      "cell_type": "code",
      "source": [
        "string = input(\"Please type in a string: \")\n",
        "if len(string) < 20 :\n",
        "    print(\"*\" * (20 - len(string)) + string)\n",
        "else:\n",
        "    print(string[20])"
      ],
      "metadata": {
        "colab": {
          "base_uri": "https://localhost:8080/"
        },
        "id": "hivhlyVJRty4",
        "outputId": "0c96245a-9747-4e32-c51f-18b3f1f9e442"
      },
      "execution_count": null,
      "outputs": [
        {
          "output_type": "stream",
          "name": "stdout",
          "text": [
            "Please type in a string: selva\n",
            "***************selva\n"
          ]
        }
      ]
    },
    {
      "cell_type": "code",
      "source": [
        "# yıldızlar arasında stringi ortalayan kod"
      ],
      "metadata": {
        "id": "7pNX79u6UI7s"
      },
      "execution_count": null,
      "outputs": []
    },
    {
      "cell_type": "code",
      "source": [
        "string = input(\"Please type in a string: \")\n",
        "index = 1\n",
        "while index <= len(string) :\n",
        "  print(string[:index])\n",
        "  index +=1"
      ],
      "metadata": {
        "colab": {
          "base_uri": "https://localhost:8080/"
        },
        "id": "no1peXUZUSLO",
        "outputId": "2312941d-9be4-42de-aaf1-7557d2bf8b9d"
      },
      "execution_count": null,
      "outputs": [
        {
          "output_type": "stream",
          "name": "stdout",
          "text": [
            "Please type in a string: test\n",
            "t\n",
            "te\n",
            "tes\n",
            "test\n"
          ]
        }
      ]
    },
    {
      "cell_type": "code",
      "source": [
        "string = input(\"Please type in a string: \")\n",
        "index = len(string) - 1\n",
        "while index >= 0 :\n",
        "  print(string[index:])\n",
        "  index -= 1"
      ],
      "metadata": {
        "colab": {
          "base_uri": "https://localhost:8080/"
        },
        "id": "2o6H4efCW5dK",
        "outputId": "ce1cbb2f-f2e5-42ac-f873-72463a59381a"
      },
      "execution_count": null,
      "outputs": [
        {
          "output_type": "stream",
          "name": "stdout",
          "text": [
            "Please type in a string: selva\n",
            "a\n",
            "va\n",
            "lva\n",
            "elva\n",
            "selva\n"
          ]
        }
      ]
    },
    {
      "cell_type": "code",
      "source": [
        "input_string = \"perpendicular\"\n",
        "\n",
        "while True:\n",
        "    substring = input(\"What are you looking for? \")\n",
        "    if substring in input_string:\n",
        "        print(\"Found it\")\n",
        "    else:\n",
        "        print(\"Not found\")\n",
        "        break"
      ],
      "metadata": {
        "colab": {
          "base_uri": "https://localhost:8080/"
        },
        "id": "l98H958QXfC_",
        "outputId": "e0ef24c1-0cf5-4968-a382-fe7c15d32022"
      },
      "execution_count": null,
      "outputs": [
        {
          "output_type": "stream",
          "name": "stdout",
          "text": [
            "What are you looking for? perp\n",
            "Found it\n",
            "What are you looking for? pen\n",
            "Found it\n",
            "What are you looking for? abc\n",
            "Not found\n"
          ]
        }
      ]
    },
    {
      "cell_type": "code",
      "source": [
        "string = input(\"Please type in a string: \")\n",
        "sesli_harf = ['a' , 'e' , 'o']\n",
        "index = 0\n",
        "while index < len(sesli_harf) :\n",
        "  sesli_harf = sesli_harf[index]\n",
        "  if sesli_harf in string :\n",
        "    print(f\"{sesli_harf} found\")\n",
        "  else :\n",
        "    print(f\"{sesli_harf} not found\")\n",
        "  index += 1\n",
        "\n",
        "  #kod çalışıyor ama biraz eksik"
      ],
      "metadata": {
        "colab": {
          "base_uri": "https://localhost:8080/"
        },
        "id": "J6-PxPP3YBh4",
        "outputId": "5a4e422c-d93a-4880-a1e1-25fc617616f1"
      },
      "execution_count": null,
      "outputs": [
        {
          "output_type": "stream",
          "name": "stdout",
          "text": [
            "Please type in a string: hiya\n",
            "a found\n"
          ]
        }
      ]
    },
    {
      "cell_type": "code",
      "source": [
        "word = input(\"Please type in a word: \")\n",
        "character = input(\"Please type in a character: \")\n",
        "index = word.find(character)\n",
        "if index == -1 :\n",
        "  print(\"Not found\")\n",
        "else:\n",
        "  print(word[index:index+3])\n",
        "\n",
        "  #hocanın yazdığı kodu kabul etmiyor bunu da"
      ],
      "metadata": {
        "colab": {
          "base_uri": "https://localhost:8080/"
        },
        "id": "i_uExRTPbTgf",
        "outputId": "996f1c95-d06f-4beb-f91f-2ba42b602ad4"
      },
      "execution_count": null,
      "outputs": [
        {
          "output_type": "stream",
          "name": "stdout",
          "text": [
            "Please type in a word: banana\n",
            "Please type in a character: n\n",
            "nan\n"
          ]
        }
      ]
    },
    {
      "cell_type": "code",
      "source": [
        "word = input(\"Please type in a word: \")\n",
        "character = input(\"Please type in a character: \")\n",
        "index = 0\n",
        "while index < len(word) :\n",
        "  if word[index] == character and index + 3 <= len(word) :\n",
        "    print(word[index:index+3])\n",
        "  index +=1"
      ],
      "metadata": {
        "colab": {
          "base_uri": "https://localhost:8080/"
        },
        "id": "rFQsgNV7cVYZ",
        "outputId": "6e0288e8-752d-461c-d51c-9d71df95a7ea"
      },
      "execution_count": null,
      "outputs": [
        {
          "output_type": "stream",
          "name": "stdout",
          "text": [
            "Please type in a word: mammoth\n",
            "Please type in a character: m\n",
            "mam\n",
            "mmo\n",
            "mot\n"
          ]
        }
      ]
    },
    {
      "cell_type": "code",
      "source": [],
      "metadata": {
        "id": "wm6vgrPTdKe9"
      },
      "execution_count": null,
      "outputs": []
    }
  ]
}