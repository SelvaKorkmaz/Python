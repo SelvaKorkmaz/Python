{
  "nbformat": 4,
  "nbformat_minor": 0,
  "metadata": {
    "colab": {
      "provenance": [],
      "authorship_tag": "ABX9TyPi9UE9ueJLgVcvajG72+2a",
      "include_colab_link": true
    },
    "kernelspec": {
      "name": "python3",
      "display_name": "Python 3"
    },
    "language_info": {
      "name": "python"
    }
  },
  "cells": [
    {
      "cell_type": "markdown",
      "metadata": {
        "id": "view-in-github",
        "colab_type": "text"
      },
      "source": [
        "<a href=\"https://colab.research.google.com/github/SelvaKorkmaz/Python/blob/main/Part_1.ipynb\" target=\"_parent\"><img src=\"https://colab.research.google.com/assets/colab-badge.svg\" alt=\"Open In Colab\"/></a>"
      ]
    },
    {
      "cell_type": "code",
      "execution_count": null,
      "metadata": {
        "colab": {
          "base_uri": "https://localhost:8080/"
        },
        "id": "NIiyyaHYMycZ",
        "outputId": "5cdb6cb4-8970-40ed-9184-bbf4e350bfe8"
      },
      "outputs": [
        {
          "output_type": "stream",
          "name": "stdout",
          "text": [
            "Row,row,row your boat,\n",
            "Gently down stream.\n",
            "Merrily,merrily, merrily, merrily\n",
            "Life is ut a dream.\n"
          ]
        }
      ],
      "source": [
        "print(\"Row,row,row your boat,\")\n",
        "print(\"Gently down stream.\")\n",
        "print(\"Merrily,merrily, merrily, merrily\")\n",
        "print(\"Life is ut a dream.\")"
      ]
    },
    {
      "cell_type": "code",
      "source": [
        "print(\"Hours in a year:\")\n",
        "print(365*24*60)"
      ],
      "metadata": {
        "colab": {
          "base_uri": "https://localhost:8080/"
        },
        "id": "9cjsjLXhQr1y",
        "outputId": "6d2195fa-a9e1-40e5-9147-851e1a700a64"
      },
      "execution_count": null,
      "outputs": [
        {
          "output_type": "stream",
          "name": "stdout",
          "text": [
            "Hours in a year:\n",
            "525600\n"
          ]
        }
      ]
    },
    {
      "cell_type": "code",
      "source": [
        "print('\"Come right back!\", shouted the police officer.')"
      ],
      "metadata": {
        "colab": {
          "base_uri": "https://localhost:8080/"
        },
        "id": "rxcMBCFlQ_uD",
        "outputId": "c11b3a68-b9f4-4098-f846-21af6cab2da3"
      },
      "execution_count": null,
      "outputs": [
        {
          "output_type": "stream",
          "name": "stdout",
          "text": [
            "\"Come right back!\", shouted the police officer.\n"
          ]
        }
      ]
    },
    {
      "cell_type": "code",
      "source": [
        "name=input(\"What is your name?\")\n",
        "print(\"Hi, there, \" + name)"
      ],
      "metadata": {
        "colab": {
          "base_uri": "https://localhost:8080/"
        },
        "id": "JaYiK6j9RFgO",
        "outputId": "2e347f6d-7e1e-4b70-8e28-e6a326cefe89"
      },
      "execution_count": null,
      "outputs": [
        {
          "output_type": "stream",
          "name": "stdout",
          "text": [
            "What is your name?selva\n",
            "Hi, there, selva\n"
          ]
        }
      ]
    },
    {
      "cell_type": "code",
      "source": [
        "name=input(\"What is your name?\")\n",
        "print(name)\n",
        "print(name)"
      ],
      "metadata": {
        "colab": {
          "base_uri": "https://localhost:8080/"
        },
        "id": "-T-LYU8ERSNE",
        "outputId": "435d83ab-7a78-4059-afff-19e692520893"
      },
      "execution_count": null,
      "outputs": [
        {
          "output_type": "stream",
          "name": "stdout",
          "text": [
            "What is your name?selva\n",
            "selva\n",
            "selva\n"
          ]
        }
      ]
    },
    {
      "cell_type": "code",
      "source": [
        "name=input(\"What is your name?\")\n",
        "print(\"!\" + name + \"!\" + name + \"!\")"
      ],
      "metadata": {
        "colab": {
          "base_uri": "https://localhost:8080/"
        },
        "id": "-X4g5QbsRpaB",
        "outputId": "70072dbc-13f1-4d82-c672-596c43f4bd29"
      },
      "execution_count": null,
      "outputs": [
        {
          "output_type": "stream",
          "name": "stdout",
          "text": [
            "What is your name?selva\n",
            "!selva!selva!\n"
          ]
        }
      ]
    },
    {
      "cell_type": "code",
      "source": [
        "given_name=input(\"What is your given name? \")\n",
        "family_name=input(\"What is your family name? \")\n",
        "street_address=input(\"What is your street address? \")\n",
        "city=input(\"What is your city and postal code? \")\n",
        "print(given_name)\n",
        "print(family_name)\n",
        "print(street_address + \" \" + city)"
      ],
      "metadata": {
        "colab": {
          "base_uri": "https://localhost:8080/"
        },
        "id": "X9VtTaywSJVD",
        "outputId": "0375d9c9-f220-458d-a863-2e980d21589c"
      },
      "execution_count": null,
      "outputs": [
        {
          "output_type": "stream",
          "name": "stdout",
          "text": [
            "What is your given name? selva\n",
            "What is your family name? korkmaz\n",
            "What is your street address? mersin\n",
            "What is your city and postal code? 33470\n",
            "selva\n",
            "korkmaz\n",
            "mersin 33470\n"
          ]
        }
      ]
    },
    {
      "cell_type": "code",
      "source": [
        "part1 = input(\"The 1st part: \")\n",
        "part2 = input(\"The 1st part: \")\n",
        "part3 = input(\"The 1st part: \")\n",
        "print(part1 + \"-\" + part2 + \"-\" + part3 + \"!\")"
      ],
      "metadata": {
        "colab": {
          "base_uri": "https://localhost:8080/"
        },
        "id": "zBBx5R7BTdyw",
        "outputId": "be4ffcd5-4fa7-495c-fb7f-17869c33b0f1"
      },
      "execution_count": null,
      "outputs": [
        {
          "output_type": "stream",
          "name": "stdout",
          "text": [
            "The 1st part: dickory\n",
            "The 1st part: hickory\n",
            "The 1st part: dock\n",
            "dickory-hickory-dock!\n"
          ]
        }
      ]
    },
    {
      "cell_type": "code",
      "source": [
        "name=input(\"Please type in name: \")\n",
        "year=input(\"Please type in year: \")\n",
        "print(name + \" is a valiant knight, born in the year \" + year + \". One morning \" + name + \" woke up to an awful racket: a dragon was approaching the village. Only \" + name + \" could save the village's residents.\")"
      ],
      "metadata": {
        "colab": {
          "base_uri": "https://localhost:8080/"
        },
        "id": "N2b2m4brUOFD",
        "outputId": "19087695-1f03-48f3-c969-5a12878eac8a"
      },
      "execution_count": null,
      "outputs": [
        {
          "output_type": "stream",
          "name": "stdout",
          "text": [
            "Please type in name: Selva\n",
            "Please type in year: 2005\n",
            "Selva is a valiant knight, born in the year 2005. One morning Selva woke up to an awful racket: a dragon was approaching the village. Only Selva could save the village's residents.\n"
          ]
        }
      ]
    },
    {
      "cell_type": "code",
      "source": [
        "name = \"Tim Tester\"\n",
        "age = 20\n",
        "skill1 = \"python\"\n",
        "level1 = \"beginner\"\n",
        "skill2 = \"java\"\n",
        "level2 = \"veteran\"\n",
        "skill3 = \"programming\"\n",
        "level3 = \"semiprofessional\"\n",
        "lower = 2000\n",
        "upper = 3000\n",
        "\n",
        "print(f\"my name is {name}, I am {age} years old\")\n",
        "print(\"\")\n",
        "print(\"my skills are\")\n",
        "print(f\" - {skill1} ({level1})\")\n",
        "print(f\" - {skill2} ({level2})\")\n",
        "print(f\" - {skill3} ({level3})\")\n",
        "print(\"\")\n",
        "print(f\"I am looking for a job with a salary of {lower}-{upper} euros per month\")"
      ],
      "metadata": {
        "colab": {
          "base_uri": "https://localhost:8080/"
        },
        "id": "r7EyENhrVLr7",
        "outputId": "f4bc60c9-9d27-4b03-d795-93086740f485"
      },
      "execution_count": null,
      "outputs": [
        {
          "output_type": "stream",
          "name": "stdout",
          "text": [
            "my name is Tim Tester, I am 20 years old\n",
            "\n",
            "my skills are\n",
            " - python (beginner)\n",
            " - java (veteran)\n",
            " - programming (semiprofessional)\n",
            "\n",
            "I am looking for a job with a salary of 2000-3000 euros per month\n"
          ]
        }
      ]
    },
    {
      "cell_type": "code",
      "source": [
        "x=27\n",
        "y=15\n",
        "print(f\"{x} + {y} = {x+y}\")\n",
        "print(f\"{x} - {y} = {x-y}\")\n",
        "print(f\"{x} * {y} = {x*y}\")\n",
        "print(f\"{x} / {y} = {x/y}\")"
      ],
      "metadata": {
        "colab": {
          "base_uri": "https://localhost:8080/"
        },
        "id": "W8EkaMppX4oe",
        "outputId": "1fef6a30-cdf6-4a69-b4fd-cb5fe177ba23"
      },
      "execution_count": null,
      "outputs": [
        {
          "output_type": "stream",
          "name": "stdout",
          "text": [
            "27 + 15 = 42\n",
            "27 - 15 = 12\n",
            "27 * 15 = 405\n",
            "27 / 15 = 1.8\n"
          ]
        }
      ]
    },
    {
      "cell_type": "code",
      "source": [
        "sayi=int(input(\"Please type in number: \"))\n",
        "sayi2=(sayi * (5))\n",
        "print(f\"{sayi} times 5 is {sayi2}\")"
      ],
      "metadata": {
        "colab": {
          "base_uri": "https://localhost:8080/"
        },
        "id": "Pnw74QYbZFdU",
        "outputId": "ec71b311-df48-4ed6-e7a5-fc854f1c5b6a"
      },
      "execution_count": null,
      "outputs": [
        {
          "output_type": "stream",
          "name": "stdout",
          "text": [
            "Please type in number: 3\n",
            "3 times 5 is 15\n"
          ]
        }
      ]
    },
    {
      "cell_type": "code",
      "source": [
        "name1=input(\"What is your name? \")\n",
        "born=int(input(\"Which year were you born? \"))\n",
        "age=(2025-born)\n",
        "print(f\"Hi {name1}, you will be {age} years old at the end of the year 2025\")"
      ],
      "metadata": {
        "colab": {
          "base_uri": "https://localhost:8080/"
        },
        "id": "O753F9egaME5",
        "outputId": "2689163f-36e8-40dc-f182-2c5df5fad3d0"
      },
      "execution_count": null,
      "outputs": [
        {
          "output_type": "stream",
          "name": "stdout",
          "text": [
            "What is your name? selva\n",
            "Which year were you born? 2005\n",
            " Hi selva, you will be 20 years ols at the end of the year 2025\n"
          ]
        }
      ]
    },
    {
      "cell_type": "code",
      "source": [
        "days=int(input(\"How many days? \"))\n",
        "print(f\"Seconds in that many days: {days*3600*24}\")"
      ],
      "metadata": {
        "colab": {
          "base_uri": "https://localhost:8080/"
        },
        "id": "ZerD28dFbPRA",
        "outputId": "5e19d952-850c-4491-89b5-181c51491f65"
      },
      "execution_count": null,
      "outputs": [
        {
          "output_type": "stream",
          "name": "stdout",
          "text": [
            "How many days? 1\n",
            "Seconds in that many days: 86400\n"
          ]
        }
      ]
    },
    {
      "cell_type": "code",
      "source": [
        "number1 = int(input(\"Please type in the first number: \"))\n",
        "number2 = int(input(\"Please type in the second number: \"))\n",
        "number3 = int(input(\"Please type in the third number: \"))\n",
        "\n",
        "product = number1 * number2 * number3\n",
        "\n",
        "print(\"The product is\", product)"
      ],
      "metadata": {
        "colab": {
          "base_uri": "https://localhost:8080/"
        },
        "id": "PZGOZGRfb1dp",
        "outputId": "94a86a31-85ff-4c47-bb20-c7d2856df861"
      },
      "execution_count": null,
      "outputs": [
        {
          "output_type": "stream",
          "name": "stdout",
          "text": [
            "Please type in the first number: 2\n",
            "Please type in the second number: 3\n",
            "Please type in the third number: 5\n",
            "The product is 30\n"
          ]
        }
      ]
    },
    {
      "cell_type": "code",
      "source": [
        "number1 = int(input(\"Please type in the first number: \"))\n",
        "number2 = int(input(\"Please type in the second number: \"))\n",
        "\n",
        "sum1 = number1 + number2\n",
        "product = number1 * number2\n",
        "\n",
        "print(\"The sum of the numbers:\", sum1)\n",
        "print(\"The product of the numbers:\", product)\n",
        "\n"
      ],
      "metadata": {
        "colab": {
          "base_uri": "https://localhost:8080/"
        },
        "id": "pHePkcDNcEY6",
        "outputId": "c2275534-6091-4ae8-86a2-9f0d632da487"
      },
      "execution_count": null,
      "outputs": [
        {
          "output_type": "stream",
          "name": "stdout",
          "text": [
            "Please type in the first number: 3\n",
            "Please type in the second number: 7\n",
            "The sum of the numbers: 10\n",
            "The product of the numbers: 21\n"
          ]
        }
      ]
    },
    {
      "cell_type": "code",
      "source": [
        "number3=int(input(\"Number 1:\"))\n",
        "number4=int(input(\"Number 2:\"))\n",
        "number5=int(input(\"Number 3:\"))\n",
        "number6=int(input(\"Number 4:\"))\n",
        "sum2=number3+number4+number5+number6\n",
        "mean=float(sum2/4)\n",
        "print(f\"The sum of the numbers is {sum2} and the mean is {mean}\")"
      ],
      "metadata": {
        "colab": {
          "base_uri": "https://localhost:8080/"
        },
        "id": "1y9kd2HHdbkH",
        "outputId": "33167cc5-4a77-4607-8bd6-8aa73b650e6d"
      },
      "execution_count": null,
      "outputs": [
        {
          "output_type": "stream",
          "name": "stdout",
          "text": [
            "Number 1:2\n",
            "Number 2:1\n",
            "Number 3:6\n",
            "Number 4:7\n",
            "The sum of the numbers is 16 and the mean is 4.0\n"
          ]
        }
      ]
    },
    {
      "cell_type": "code",
      "source": [
        "cafeteria=float(input(\"How many times a week do you eat at the student cafeteria? \"))\n",
        "lunch=float(input(\"The price of a typical student lunch? \"))\n",
        "week=float(input(\"How much money do you spend on groceries in a week? \"))\n",
        "weekly=float(cafeteria*lunch)+week\n",
        "daily=float(weekly/7)\n",
        "print(\"Average food expenditure: \")\n",
        "print(f\"Daily: {daily} euros\")\n",
        "print(f\"Weekly: {weekly} euros\")\n"
      ],
      "metadata": {
        "colab": {
          "base_uri": "https://localhost:8080/"
        },
        "id": "agKzCgU7voB4",
        "outputId": "bb652476-c015-4834-95fe-007db4ecd5ec"
      },
      "execution_count": null,
      "outputs": [
        {
          "output_type": "stream",
          "name": "stdout",
          "text": [
            "How many times a week do you eat at the student cafeteria? 4\n",
            "The price of a typical student lunch? 2.5\n",
            "How much money do you spend on groceries in a week? 28.5\n",
            "Average food expenditure: \n",
            "Daily: 5.5 euros\n",
            "Weekly: 38.5 euros\n"
          ]
        }
      ]
    },
    {
      "cell_type": "code",
      "source": [
        "course=int(input(\"How many students on the course? \"))\n",
        "group=int(input(\"Desired groups size? \"))\n",
        "formed=int((course+group-1)//group)\n",
        "print(f\"Number of groups formed: {formed}\")"
      ],
      "metadata": {
        "colab": {
          "base_uri": "https://localhost:8080/"
        },
        "id": "WYTxOi8MaWJG",
        "outputId": "76215993-b808-4506-f8a4-37b6fc9287ec"
      },
      "execution_count": null,
      "outputs": [
        {
          "output_type": "stream",
          "name": "stdout",
          "text": [
            "How many students on the course? 8\n",
            "Desired groups size? 4\n",
            "Number of groups formed: 2\n"
          ]
        }
      ]
    },
    {
      "cell_type": "code",
      "source": [
        "number=int(input(\"Please type in a number: \"))\n",
        "if(number==1984):\n",
        "  print(\"Orwell\")"
      ],
      "metadata": {
        "colab": {
          "base_uri": "https://localhost:8080/"
        },
        "id": "2AbJBk2YjOlY",
        "outputId": "7af6e347-9e10-479a-fff6-08e2c40f2fcb"
      },
      "execution_count": null,
      "outputs": [
        {
          "name": "stdout",
          "output_type": "stream",
          "text": [
            "Please type in a number: 2020\n"
          ]
        }
      ]
    },
    {
      "cell_type": "code",
      "source": [
        "number = int(input(\"Please type in a number: \"))\n",
        "\n",
        "if number < 0:\n",
        "  number=number * -1\n",
        "print(f\"The absolute value of this number is {number}\")"
      ],
      "metadata": {
        "colab": {
          "base_uri": "https://localhost:8080/"
        },
        "id": "raavHM3Kl6bb",
        "outputId": "1c99a970-ba83-4455-fe04-4ff8085eab67"
      },
      "execution_count": null,
      "outputs": [
        {
          "output_type": "stream",
          "name": "stdout",
          "text": [
            "Please type in a number: -7\n",
            "The absolute value of this number is 7\n"
          ]
        }
      ]
    },
    {
      "cell_type": "code",
      "source": [
        "name = input(\"Please tell me your name: \")\n",
        "if name != \"Jerry\":\n",
        "    portions = int(input(\"How many portions of soup? \"))\n",
        "    total_cost = portions * 5.90\n",
        "    print(f\"The total cost is {total_cost}\")\n",
        "print(\"Next please!\")\n"
      ],
      "metadata": {
        "colab": {
          "base_uri": "https://localhost:8080/"
        },
        "id": "ot3BpIrDnkJG",
        "outputId": "87251bbe-0646-4ad6-91e6-5a102c4028a2"
      },
      "execution_count": null,
      "outputs": [
        {
          "output_type": "stream",
          "name": "stdout",
          "text": [
            "Please tell me your name: kramer\n",
            "How many portions of soup? 2\n",
            "The total cost is 11.8\n",
            "Next please!\n"
          ]
        }
      ]
    },
    {
      "cell_type": "code",
      "source": [
        "number=int(input(\"Please type in anumber: \"))\n",
        "if number<1000:\n",
        "  print(\"This number is smaller than 1000\")\n",
        "if number<100:\n",
        "  print(\"This number is smaller than 100\")\n",
        "if number<10:\n",
        "  print(\"This number is smaller than 10\")\n",
        "print(\"Thank you!\")"
      ],
      "metadata": {
        "colab": {
          "base_uri": "https://localhost:8080/"
        },
        "id": "WIsRTcO8BM1b",
        "outputId": "12be6a11-ccc7-441f-9fb2-dabc4955ad6a"
      },
      "execution_count": null,
      "outputs": [
        {
          "output_type": "stream",
          "name": "stdout",
          "text": [
            "Please type in anumber: 2\n",
            "This number is smaller than 1000\n",
            "This number is smaller than 100\n",
            "This number is smaller than 10\n",
            "Thank you!\n"
          ]
        }
      ]
    },
    {
      "cell_type": "code",
      "source": [
        "number1=int(input(\"Number 1: \"))\n",
        "number2=int(input(\"Number 2: \"))\n",
        "operation=input(\"Operation: \")\n",
        "add=number1+number2\n",
        "multiply=number1*number2\n",
        "if operation==\"add\":\n",
        "  print(f\"{number1} + {number2} = {number1 + number2}\")\n",
        "if operation==\"multiply\":\n",
        "  print(f\"{number1} * {number2} = {number1 * number2}\")"
      ],
      "metadata": {
        "colab": {
          "base_uri": "https://localhost:8080/"
        },
        "id": "CfJkIYJMB83R",
        "outputId": "2159ae1a-77d3-4ee2-e509-4d7476b6a4b8"
      },
      "execution_count": null,
      "outputs": [
        {
          "output_type": "stream",
          "name": "stdout",
          "text": [
            "Number 1: 4\n",
            "Number 2: 5\n",
            "Operation: multiply\n",
            "4 * 5 = 20\n"
          ]
        }
      ]
    },
    {
      "cell_type": "code",
      "source": [
        "fahrenheit=float(input(\"değer gir:\"))\n",
        "celcius=(fahrenheit-32)/(5/9)\n",
        "if celcius<0:\n",
        "  print(\"soğuk\")\n",
        "print(\"derece\" + {celcius})"
      ],
      "metadata": {
        "id": "YWt-wRDVFTYl",
        "colab": {
          "base_uri": "https://localhost:8080/",
          "height": 193
        },
        "outputId": "068c4297-7f36-4e7c-cb88-256817cf8d45"
      },
      "execution_count": null,
      "outputs": [
        {
          "name": "stdout",
          "output_type": "stream",
          "text": [
            "değer gir:101\n"
          ]
        },
        {
          "output_type": "error",
          "ename": "TypeError",
          "evalue": "can only concatenate str (not \"set\") to str",
          "traceback": [
            "\u001b[0;31m---------------------------------------------------------------------------\u001b[0m",
            "\u001b[0;31mTypeError\u001b[0m                                 Traceback (most recent call last)",
            "\u001b[0;32m<ipython-input-3-719e855cb00d>\u001b[0m in \u001b[0;36m<cell line: 0>\u001b[0;34m()\u001b[0m\n\u001b[1;32m      3\u001b[0m \u001b[0;32mif\u001b[0m \u001b[0mcelcius\u001b[0m\u001b[0;34m<\u001b[0m\u001b[0;36m0\u001b[0m\u001b[0;34m:\u001b[0m\u001b[0;34m\u001b[0m\u001b[0;34m\u001b[0m\u001b[0m\n\u001b[1;32m      4\u001b[0m   \u001b[0mprint\u001b[0m\u001b[0;34m(\u001b[0m\u001b[0;34m\"soğuk\"\u001b[0m\u001b[0;34m)\u001b[0m\u001b[0;34m\u001b[0m\u001b[0;34m\u001b[0m\u001b[0m\n\u001b[0;32m----> 5\u001b[0;31m \u001b[0mprint\u001b[0m\u001b[0;34m(\u001b[0m\u001b[0;34m\"derece\"\u001b[0m \u001b[0;34m+\u001b[0m \u001b[0;34m{\u001b[0m\u001b[0mcelcius\u001b[0m\u001b[0;34m}\u001b[0m\u001b[0;34m)\u001b[0m\u001b[0;34m\u001b[0m\u001b[0;34m\u001b[0m\u001b[0m\n\u001b[0m",
            "\u001b[0;31mTypeError\u001b[0m: can only concatenate str (not \"set\") to str"
          ]
        }
      ]
    },
    {
      "cell_type": "code",
      "source": [
        "hourly_wage=float(input(\"Hourly wage: \"))\n",
        "hours=int(input(\"Hours worked: \"))\n",
        "day=input(\"Day of the week: \")\n",
        "if (day== \"Sunday\"):\n",
        "  hourly_wage=hourly_wage*2\n",
        "daily_wages=hourly_wage*hours\n",
        "print(f\"Daily wages: {daily_wages} euros\")"
      ],
      "metadata": {
        "id": "GQ1FaljPFYgT"
      },
      "execution_count": null,
      "outputs": []
    },
    {
      "cell_type": "code",
      "source": [
        "# Kullanıcıdan puan bilgisini al\n",
        "points = float(input(\"How many points are on your card? \"))\n",
        "\n",
        "# Bonus hesaplama\n",
        "if points < 100:\n",
        "    bonus_percentage = 10\n",
        "else:\n",
        "    bonus_percentage = 15\n",
        "\n",
        "bonus = points * (bonus_percentage / 100)\n",
        "new_points = round(points + bonus, 10)  # Daha hassas yuvarlama için 10 basamak kullanıldı\n",
        "\n",
        "# Sonuçları ekrana yazdır\n",
        "print(f\"Your bonus is {bonus_percentage} %\")\n",
        "print(f\"You now have {new_points:.10f} points\")  # 10 basamaklı yazdır\n",
        "\n"
      ],
      "metadata": {
        "id": "GL6lM-lqFgS0"
      },
      "execution_count": null,
      "outputs": []
    },
    {
      "cell_type": "code",
      "source": [
        "temperature=int(input(\"What is the temperature for tomorrow? \"))\n",
        "rain=input(\"Will it raib(yes/no)? \").strip().lower()\n",
        "print(\"Wear jeans and a T-shirt\")\n",
        "if temperature<=20:\n",
        "  print(\"I recommend a jumper as well\")\n",
        "if temperature<=10:\n",
        "  print(\"Take a jacket with you\")\n",
        "if temperature<=5:\n",
        "  print(\"Make it a warm coat, actually\")\n",
        "  print(\"I think gloves are in order\")"
      ],
      "metadata": {
        "colab": {
          "base_uri": "https://localhost:8080/"
        },
        "id": "psBtp8-jHx7x",
        "outputId": "b00f9001-8765-4b72-f746-8ea0251f5d77"
      },
      "execution_count": null,
      "outputs": [
        {
          "output_type": "stream",
          "name": "stdout",
          "text": [
            "What is the temperature for tomorrow? 3\n",
            "Will it raib(yes/no)? yes\n",
            "Wear jeans and a T-shirt\n",
            "I recommend a jumper as well\n",
            "Take a jacket with you\n",
            "Make it a warm coat, actually\n",
            "I think gloves are in order\n"
          ]
        }
      ]
    },
    {
      "cell_type": "code",
      "source": [
        "from math import sqrt\n",
        "a = float(input(\"Value of a: \"))\n",
        "b= float(input(\"Value of b: \"))\n",
        "c = float(input(\"Value of c: \"))\n",
        "\n",
        "discriminant = b**2 - 4*a*c\n",
        "\n",
        "root1 = (-b + sqrt(discriminant)) // (2*a)\n",
        "root2 = (-b - sqrt(discriminant)) // (2*a)\n",
        "\n",
        "print(f\"The roots are {root1} and {root2}\")"
      ],
      "metadata": {
        "colab": {
          "base_uri": "https://localhost:8080/"
        },
        "id": "cjhQank3KNjz",
        "outputId": "033d37bb-6af9-470d-c967-fd38e2f36ada"
      },
      "execution_count": null,
      "outputs": [
        {
          "output_type": "stream",
          "name": "stdout",
          "text": [
            "Value of a: 1\n",
            "Value of b: 2\n",
            "Value of c: -8\n",
            "The roots are 2.0 and -4.0\n"
          ]
        }
      ]
    }
  ]
}