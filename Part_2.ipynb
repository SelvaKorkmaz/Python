{
  "nbformat": 4,
  "nbformat_minor": 0,
  "metadata": {
    "colab": {
      "provenance": [],
      "authorship_tag": "ABX9TyPf3cuFY+l2hTCMGRNDIi6h",
      "include_colab_link": true
    },
    "kernelspec": {
      "name": "python3",
      "display_name": "Python 3"
    },
    "language_info": {
      "name": "python"
    }
  },
  "cells": [
    {
      "cell_type": "markdown",
      "metadata": {
        "id": "view-in-github",
        "colab_type": "text"
      },
      "source": [
        "<a href=\"https://colab.research.google.com/github/SelvaKorkmaz/Python/blob/main/Part_2.ipynb\" target=\"_parent\"><img src=\"https://colab.research.google.com/assets/colab-badge.svg\" alt=\"Open In Colab\"/></a>"
      ]
    },
    {
      "cell_type": "code",
      "execution_count": null,
      "metadata": {
        "colab": {
          "base_uri": "https://localhost:8080/"
        },
        "id": "4tqxPOy2m8_Z",
        "outputId": "4ec330ac-95db-4285-fbf6-12bdd555a7f9"
      },
      "outputs": [
        {
          "output_type": "stream",
          "name": "stdout",
          "text": [
            "Please type in a number: 101\n",
            "The number was greater than one hundred\n",
            "Now its value has decreased by one hundred\n",
            "Its value is now 1\n",
            "1 must be my lucky number!\n",
            "Have a nice day!\n"
          ]
        }
      ],
      "source": [
        "number = int(input(\"Please type in a number: \"))\n",
        "if number>100:\n",
        "  print(\"The number was greater than one hundred\")\n",
        "  number=number - 100\n",
        "  print(\"Now its value has decreased by one hundred\")\n",
        "  print(\"Its value is now \"+ str(number))\n",
        "print(str(number) + \" must be my lucky number!\")\n",
        "print(\"Have a nice day!\")"
      ]
    },
    {
      "cell_type": "code",
      "source": [
        "word=input(\"Please type in a word: \")\n",
        "if len(word)>1:\n",
        "   print(f\"There are {len(word)} letters in the word hey\")\n",
        "print(\"Thank you!\")"
      ],
      "metadata": {
        "colab": {
          "base_uri": "https://localhost:8080/"
        },
        "id": "ZTJIc8t8naad",
        "outputId": "2e38465d-3f0a-4bc9-bc9b-0f8479b69f3f"
      },
      "execution_count": null,
      "outputs": [
        {
          "output_type": "stream",
          "name": "stdout",
          "text": [
            "Please type in a word: 1\n",
            "Thank you!\n"
          ]
        }
      ]
    },
    {
      "cell_type": "code",
      "source": [
        "num = float(input(\"Please type in a number: \"))\n",
        "integer_part = int(num)\n",
        "decimal_part = num - integer_part\n",
        "\n",
        "print(f\"Integer part: {integer_part}\")\n",
        "print(f\"Decimal part: {decimal_part}\")"
      ],
      "metadata": {
        "colab": {
          "base_uri": "https://localhost:8080/"
        },
        "id": "1Hqcbnz_pig3",
        "outputId": "239eaa0f-fc99-432b-c74f-3a413fd86933"
      },
      "execution_count": null,
      "outputs": [
        {
          "output_type": "stream",
          "name": "stdout",
          "text": [
            "Please type in a number: 1.34\n",
            "Integer part: 1\n",
            "Decimal part: 0.3400000000000001\n"
          ]
        }
      ]
    },
    {
      "cell_type": "code",
      "source": [
        "age=int(input(\"How old are you?\"))\n",
        "if age<18:\n",
        "  print(\"You are not of age!\")\n",
        "else:\n",
        "  print(\"You are of age!\")"
      ],
      "metadata": {
        "colab": {
          "base_uri": "https://localhost:8080/"
        },
        "id": "1Xn8HRnlrWMJ",
        "outputId": "1e934ce9-08ba-4749-9c4c-33a4f70cf664"
      },
      "execution_count": null,
      "outputs": [
        {
          "output_type": "stream",
          "name": "stdout",
          "text": [
            "How old are you? 12\n",
            "You are of age!\n"
          ]
        }
      ]
    },
    {
      "cell_type": "code",
      "source": [
        "number1=int(input(\"Please type in the first number:\"))\n",
        "number2=int(input(\"Please type in another number:\"))\n",
        "if number1>number2:\n",
        "  print(f\"The greter number was: {number1}\")\n",
        "elif number1<number2:\n",
        "  print(f\"The greater number was: {number2}\")\n",
        "else:\n",
        "  print(\"The numbers are equal!\")"
      ],
      "metadata": {
        "colab": {
          "base_uri": "https://localhost:8080/"
        },
        "id": "P4Lpqs5-rHvU",
        "outputId": "cf2f629a-9df3-4723-fbd6-723858b2ee0c"
      },
      "execution_count": null,
      "outputs": [
        {
          "output_type": "stream",
          "name": "stdout",
          "text": [
            "Please type in the first number:5\n",
            "Please type in another number:5\n",
            "The numbers are equal!\n"
          ]
        }
      ]
    },
    {
      "cell_type": "code",
      "source": [
        "print(\"Person 1:\")\n",
        "name1=input(\"Name: \")\n",
        "age1=int(input(\"Age: \"))\n",
        "print(\"Person 2:\")\n",
        "name2=input(\"Name: \")\n",
        "age2=int(input(\"Age: \"))\n",
        "if age1>age2:\n",
        "  print(f\"The elder is {name1}\")\n",
        "elif age1<age2:\n",
        "  print(f\"The elder is {name2}\")\n",
        "else:\n",
        "  print(f\"{name1} and {name2} are the same age\")"
      ],
      "metadata": {
        "colab": {
          "base_uri": "https://localhost:8080/"
        },
        "id": "ySqGLroYspI9",
        "outputId": "ca362ebd-eb21-4841-b7c5-59cc9fef9f00"
      },
      "execution_count": null,
      "outputs": [
        {
          "output_type": "stream",
          "name": "stdout",
          "text": [
            "Person 1:\n",
            "Name: a\n",
            "Age: 45\n",
            "Person 2:\n",
            "Name: b\n",
            "Age: 78\n",
            "The elder is b\n"
          ]
        }
      ]
    },
    {
      "cell_type": "code",
      "source": [
        "age=int(input(\"What is your age? \"))\n",
        "if age<0:\n",
        "  print(\"That must be a mistake\")\n",
        "elif age>=0 and age<5:\n",
        "  print(\"I suspect you can't write quite yet...\")\n",
        "else:\n",
        "  print(f\"Ok, you're {age} years old\")"
      ],
      "metadata": {
        "colab": {
          "base_uri": "https://localhost:8080/"
        },
        "id": "TVjpHjBIuJ2q",
        "outputId": "3104f450-b241-4454-a046-fb3a8bfc09cd"
      },
      "execution_count": null,
      "outputs": [
        {
          "output_type": "stream",
          "name": "stdout",
          "text": [
            "What is your age? -4\n",
            "That must be a mistake\n"
          ]
        }
      ]
    },
    {
      "cell_type": "code",
      "source": [
        "name = input(\"What is your name? \")\n",
        "\n",
        "donald_nephews = [\"Huey\", \"Dewey\", \"Louie\"]\n",
        "mickey_nephews = [\"Morty\", \"Ferdie\"]\n",
        "\n",
        "if name in donald_nephews:\n",
        "    print(\"I think you might be one of Donald Duck's nephews.\")\n",
        "elif name in mickey_nephews:\n",
        "    print(\"I think you might be one of Mickey Mouse's nephews.\")\n",
        "else:\n",
        "    print(\"You're not a nephew of any character I know of.\")"
      ],
      "metadata": {
        "colab": {
          "base_uri": "https://localhost:8080/"
        },
        "id": "z-lH0wyxvU97",
        "outputId": "a3f0f2ec-202c-4c3b-ca9f-d1f57d6be2eb"
      },
      "execution_count": null,
      "outputs": [
        {
          "output_type": "stream",
          "name": "stdout",
          "text": [
            "What is your name? Selva\n",
            "You're not a nephew of any character I know of.\n"
          ]
        }
      ]
    },
    {
      "cell_type": "code",
      "source": [
        "points = int(input(\"How many points [0-100]: \"))\n",
        "\n",
        "if points < 0 or points > 100:\n",
        "    print(\"Grade: impossible!\")\n",
        "elif 90 <= points <= 100:\n",
        "    print(\"Grade: 5\")\n",
        "elif 80 <= points < 90:\n",
        "    print(\"Grade: 4\")\n",
        "elif 70 <= points < 80:\n",
        "    print(\"Grade: 3\")\n",
        "elif 60 <= points < 70:\n",
        "    print(\"Grade: 2\")\n",
        "elif 50 <= points < 60:\n",
        "    print(\"Grade: 1\")\n",
        "else:\n",
        "    print(\"Grade: fail\")"
      ],
      "metadata": {
        "id": "ZHZXU1Ogxgb1"
      },
      "execution_count": null,
      "outputs": []
    },
    {
      "cell_type": "code",
      "source": [
        "number = int(input(\"Number: \"))\n",
        "if number % 3 == 0 and number % 5 == 0:\n",
        "    print(\"FizzBuzz\")\n",
        "elif number % 3 == 0:\n",
        "    print(\"Fizz\")\n",
        "elif number % 5 == 0:\n",
        "    print(\"Buzz\")\n",
        "else:\n",
        "    print(\"\")"
      ],
      "metadata": {
        "colab": {
          "base_uri": "https://localhost:8080/"
        },
        "id": "0sh8jjJLHu59",
        "outputId": "f45b953c-b3b2-44af-e883-1cc40e819c97"
      },
      "execution_count": null,
      "outputs": [
        {
          "output_type": "stream",
          "name": "stdout",
          "text": [
            "Number: 7\n",
            "\n"
          ]
        }
      ]
    },
    {
      "cell_type": "code",
      "source": [
        "year = int(input(\"Please type in a year: \"))\n",
        "if(year % 4 == 0 and year % 100 != 0) or (year % 400 == 0):\n",
        "  print(\"That year is aleap year.\")\n",
        "else:\n",
        "  print(\"That year is not a leap year.\")"
      ],
      "metadata": {
        "colab": {
          "base_uri": "https://localhost:8080/"
        },
        "id": "Iw49Pny1K8cI",
        "outputId": "b1f66101-003f-4c9a-ff05-38e59d84799c"
      },
      "execution_count": null,
      "outputs": [
        {
          "output_type": "stream",
          "name": "stdout",
          "text": [
            "Please type in a year: 1800\n",
            "That year is not a leap year.\n"
          ]
        }
      ]
    },
    {
      "cell_type": "code",
      "source": [
        "letter1=input(\"1st letter:\")\n",
        "letter2=input(\"2st letter:\")\n",
        "letter3=input(\"3st letter:\")\n",
        "\n",
        "middle_letter = sorted([letter1,letter2,letter3])[1]\n",
        "print(f\"The letter in the middle is {middle_letter}\")"
      ],
      "metadata": {
        "colab": {
          "base_uri": "https://localhost:8080/"
        },
        "id": "5rXIhzTnMX-J",
        "outputId": "f2ac917f-b9fe-4fc2-e76a-5d51be116177"
      },
      "execution_count": null,
      "outputs": [
        {
          "output_type": "stream",
          "name": "stdout",
          "text": [
            "1st letter:c\n",
            "2st letter:a\n",
            "3st letter:b\n",
            "The letter in the middle is b\n"
          ]
        }
      ]
    },
    {
      "cell_type": "code",
      "source": [],
      "metadata": {
        "id": "V-r4hF2RQKJY"
      },
      "execution_count": null,
      "outputs": []
    },
    {
      "cell_type": "code",
      "source": [
        "gift_value = int(input(\"Value of gift: \"))\n",
        "\n",
        "if gift_value < 5000:\n",
        "    print(\"No tax!\")\n",
        "else:\n",
        "    if gift_value < 25000:\n",
        "        tax_value = 100 + (gift_value - 5000) * 0.08\n",
        "    elif gift_value < 55000:\n",
        "        tax_value = 1700 + (gift_value - 25000) * 0.1\n",
        "    elif gift_value < 200000:\n",
        "        tax_value = 4700 + (gift_value - 55000) * 0.12\n",
        "    elif gift_value < 1000000:\n",
        "        tax_value = 22100 + (gift_value - 200000) * 0.15\n",
        "    else:\n",
        "        tax_value = 142100 + (gift_value - 1000000) * 0.17\n",
        "\n",
        "    print(f\"Amount of tax: {tax_value:.1f} euros\")\n"
      ],
      "metadata": {
        "id": "mwaKb0IYQKZx"
      },
      "execution_count": null,
      "outputs": []
    },
    {
      "cell_type": "code",
      "source": [
        "while True:\n",
        "  print(\"hi\")\n",
        "  cevap = input(\"Shall we continue?\")\n",
        "  if cevap.lower() == \"no\":\n",
        "    break\n",
        "print(\"okay then\")"
      ],
      "metadata": {
        "colab": {
          "base_uri": "https://localhost:8080/"
        },
        "id": "NU1grMmyQvyW",
        "outputId": "00e7007e-7bb8-41d3-dc64-15f31691655c"
      },
      "execution_count": null,
      "outputs": [
        {
          "output_type": "stream",
          "name": "stdout",
          "text": [
            "hi\n",
            "Shall we continue?no\n",
            "okay then\n"
          ]
        }
      ]
    },
    {
      "cell_type": "code",
      "source": [
        "from math import sqrt\n",
        "while True:\n",
        "  number = int(input(\"Please type in a number:\"))\n",
        "  if number > 0 :\n",
        "    print(sqrt(number))\n",
        "  elif number < 0:\n",
        "    print(\"Invalid number\")\n",
        "  else:\n",
        "    print(\"Exiting...\")\n",
        "    break"
      ],
      "metadata": {
        "colab": {
          "base_uri": "https://localhost:8080/"
        },
        "id": "bSIfmbYDSiAU",
        "outputId": "74c23bba-d003-462f-a9c3-4b4ce07637d7"
      },
      "execution_count": null,
      "outputs": [
        {
          "output_type": "stream",
          "name": "stdout",
          "text": [
            "Please type in a number:16\n",
            "4.0\n",
            "Please type in a number:4\n",
            "2.0\n",
            "Please type in a number:-3\n",
            "Invalid number\n",
            "Please type in a number:0\n",
            "Exiting...\n"
          ]
        }
      ]
    },
    {
      "cell_type": "code",
      "source": [
        "number = 5\n",
        "print(\"Countdown!\")\n",
        "while True:\n",
        "  print(number)\n",
        "  number = number - 1\n",
        "  if number == 0:\n",
        "    break\n",
        "\n",
        "print(\"Now!\")"
      ],
      "metadata": {
        "colab": {
          "base_uri": "https://localhost:8080/"
        },
        "id": "gnxqTrCEUHuZ",
        "outputId": "41f190ca-dfcc-4cdf-fc2a-155aca765838"
      },
      "execution_count": null,
      "outputs": [
        {
          "output_type": "stream",
          "name": "stdout",
          "text": [
            "Countdown!\n",
            "5\n",
            "4\n",
            "3\n",
            "2\n",
            "1\n",
            "Now!\n"
          ]
        }
      ]
    },
    {
      "cell_type": "code",
      "source": [
        "sekred"
      ],
      "metadata": {
        "id": "673MZQ8dUUJm"
      },
      "execution_count": null,
      "outputs": []
    },
    {
      "cell_type": "code",
      "source": [
        "sayac = 0\n",
        "while True:\n",
        "  PIN=input(\"Enter PIN Code: \")\n",
        "  sayac += 1\n",
        "  if PIN == \"4321\" and sayac>1:\n",
        "    print(f\"Correct! It took you {sayac} attempts\")\n",
        "    break\n",
        "  elif PIN == \"4321\" and sayac==1:\n",
        "    print(f\"Correct! It only took you one single attempt!\")\n",
        "    break\n",
        "  else:\n",
        "    print(\"Wrong\")"
      ],
      "metadata": {
        "colab": {
          "base_uri": "https://localhost:8080/"
        },
        "id": "Iyf9TWJ6UWbR",
        "outputId": "abed4325-7be2-415c-d6db-1aee501fe94e"
      },
      "execution_count": null,
      "outputs": [
        {
          "output_type": "stream",
          "name": "stdout",
          "text": [
            "Enter PIN Code: 4321\n",
            "Correct! It only took you one single attempt!\n"
          ]
        }
      ]
    },
    {
      "cell_type": "code",
      "source": [
        "password = input(\"Password:\")\n",
        "while True:\n",
        "  confirm_password = input(\"Repeat password: \")\n",
        "  if confirm_password == password:\n",
        "    break\n",
        "  print(\"They do not match!\")\n",
        "print(\"User account created!\")"
      ],
      "metadata": {
        "colab": {
          "base_uri": "https://localhost:8080/"
        },
        "id": "AlLFEGoFVGaX",
        "outputId": "0dd42bda-007d-4c6a-eebc-8ce7e49cb0dd"
      },
      "execution_count": null,
      "outputs": [
        {
          "output_type": "stream",
          "name": "stdout",
          "text": [
            "Password:123\n",
            "Repeat password: 123\n",
            "User account created!\n"
          ]
        }
      ]
    },
    {
      "cell_type": "code",
      "source": [
        "def is_leap_year(year):\n",
        "  return (year % 4 == 0 and year % 100 != 0) or (year % 400 == 0)\n",
        "year = int(input(\"Year: \"))\n",
        "next_year = year + 1\n",
        "while not is_leap_year(next_year):\n",
        "  next_year += 1\n",
        "print(f\"The next leap year after {year} is {next_year}\")"
      ],
      "metadata": {
        "colab": {
          "base_uri": "https://localhost:8080/"
        },
        "id": "11oj2dI8ZBZR",
        "outputId": "03f1a92b-fba0-4b68-e56d-337ac176812f"
      },
      "execution_count": null,
      "outputs": [
        {
          "output_type": "stream",
          "name": "stdout",
          "text": [
            "Year: 2023\n",
            "The next leap year after 2023 is 2024\n"
          ]
        }
      ]
    }
  ]
}